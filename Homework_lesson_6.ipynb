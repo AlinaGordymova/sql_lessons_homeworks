{
  "nbformat": 4,
  "nbformat_minor": 0,
  "metadata": {
    "colab": {
      "name": "Homework_lesson_6",
      "provenance": [],
      "collapsed_sections": [],
      "include_colab_link": true
    },
    "kernelspec": {
      "display_name": "Python 3",
      "name": "python3"
    },
    "language_info": {
      "name": "python"
    }
  },
  "cells": [
    {
      "cell_type": "markdown",
      "metadata": {
        "id": "view-in-github",
        "colab_type": "text"
      },
      "source": [
        "<a href=\"https://colab.research.google.com/github/AlinaGordymova/sql_lessons_homeworks/blob/main/Homework_lesson_6.ipynb\" target=\"_parent\"><img src=\"https://colab.research.google.com/assets/colab-badge.svg\" alt=\"Open In Colab\"/></a>"
      ]
    },
    {
      "cell_type": "code",
      "metadata": {
        "id": "8w-uMyA4FZd9"
      },
      "source": [
        "#установка библиотек\n",
        "# !pip install psycopg2\n",
        "# !pip install plotly"
      ],
      "execution_count": null,
      "outputs": []
    },
    {
      "cell_type": "code",
      "source": [
        "import sqlite3\n",
        "conn_sqlite = sqlite3.connect('TestDB.db')  "
      ],
      "metadata": {
        "id": "p5p9_XGPBpU2"
      },
      "execution_count": null,
      "outputs": []
    },
    {
      "cell_type": "code",
      "metadata": {
        "id": "tg6CUoL3Fo1X"
      },
      "source": [
        "#проверка подключения PostgreSQL \n",
        "import psycopg2\n",
        "import pandas as pd\n",
        "#Библиотека ждя визуализации\n",
        "from IPython.display import HTML\n",
        "import plotly.express as px\n",
        "\n",
        "\n",
        "#!введите свои реквизиты!\n",
        "DB_HOST = '52.157.159.24'\n",
        "DB_USER = 'student3'\n",
        "DB_USER_PASSWORD = 'student3_password'\n",
        "DB_NAME = 'sql_ex_third_stream'\n",
        "\n",
        "conn_psql = psycopg2.connect(host=DB_HOST, user=DB_USER, password=DB_USER_PASSWORD, dbname=DB_NAME)"
      ],
      "execution_count": null,
      "outputs": []
    },
    {
      "cell_type": "code",
      "metadata": {
        "id": "1aETfy2dlPFZ"
      },
      "source": [
        "# task1  (lesson6, дополнительно)\n",
        "# SQL: Создайте таблицу с синтетическими данными (10000 строк, 3 колонки, все типы int) и заполните ее случайными данными от 0 до 1 000 000. \n",
        "# Проведите EXPLAIN операции и сравните базовые операции.\n"
      ],
      "execution_count": null,
      "outputs": []
    },
    {
      "cell_type": "code",
      "source": [
        "df = pd.read_sql('''\n",
        "with recursive generate_series(r1,r2,r3) as (\n",
        "    select abs(random() % 1000000) as r1, abs(random() % 1000000) as r2, abs(random() % 1000000) as r3\n",
        "    union all select abs(random() % 1000000) as r1, abs(random() % 1000000) as r2, abs(random() % 1000000) as r3\n",
        "    from generate_series\n",
        "    limit 10000)\n",
        " select * from generate_series;\n",
        "''', conn_sqlite)"
      ],
      "metadata": {
        "id": "ENvj3Aw0CDtT"
      },
      "execution_count": null,
      "outputs": []
    },
    {
      "cell_type": "code",
      "source": [
        "df"
      ],
      "metadata": {
        "colab": {
          "base_uri": "https://localhost:8080/",
          "height": 423
        },
        "id": "DCBYrtzzCwPo",
        "outputId": "7253a831-8620-43da-b996-766112e57800"
      },
      "execution_count": null,
      "outputs": [
        {
          "output_type": "execute_result",
          "data": {
            "text/html": [
              "<div>\n",
              "<style scoped>\n",
              "    .dataframe tbody tr th:only-of-type {\n",
              "        vertical-align: middle;\n",
              "    }\n",
              "\n",
              "    .dataframe tbody tr th {\n",
              "        vertical-align: top;\n",
              "    }\n",
              "\n",
              "    .dataframe thead th {\n",
              "        text-align: right;\n",
              "    }\n",
              "</style>\n",
              "<table border=\"1\" class=\"dataframe\">\n",
              "  <thead>\n",
              "    <tr style=\"text-align: right;\">\n",
              "      <th></th>\n",
              "      <th>r1</th>\n",
              "      <th>r2</th>\n",
              "      <th>r3</th>\n",
              "    </tr>\n",
              "  </thead>\n",
              "  <tbody>\n",
              "    <tr>\n",
              "      <th>0</th>\n",
              "      <td>774472</td>\n",
              "      <td>775123</td>\n",
              "      <td>52809</td>\n",
              "    </tr>\n",
              "    <tr>\n",
              "      <th>1</th>\n",
              "      <td>547236</td>\n",
              "      <td>528809</td>\n",
              "      <td>372954</td>\n",
              "    </tr>\n",
              "    <tr>\n",
              "      <th>2</th>\n",
              "      <td>211171</td>\n",
              "      <td>463583</td>\n",
              "      <td>878903</td>\n",
              "    </tr>\n",
              "    <tr>\n",
              "      <th>3</th>\n",
              "      <td>993132</td>\n",
              "      <td>546110</td>\n",
              "      <td>573780</td>\n",
              "    </tr>\n",
              "    <tr>\n",
              "      <th>4</th>\n",
              "      <td>102624</td>\n",
              "      <td>74223</td>\n",
              "      <td>902911</td>\n",
              "    </tr>\n",
              "    <tr>\n",
              "      <th>...</th>\n",
              "      <td>...</td>\n",
              "      <td>...</td>\n",
              "      <td>...</td>\n",
              "    </tr>\n",
              "    <tr>\n",
              "      <th>9995</th>\n",
              "      <td>253772</td>\n",
              "      <td>393294</td>\n",
              "      <td>756923</td>\n",
              "    </tr>\n",
              "    <tr>\n",
              "      <th>9996</th>\n",
              "      <td>147313</td>\n",
              "      <td>909758</td>\n",
              "      <td>443546</td>\n",
              "    </tr>\n",
              "    <tr>\n",
              "      <th>9997</th>\n",
              "      <td>155037</td>\n",
              "      <td>831207</td>\n",
              "      <td>517234</td>\n",
              "    </tr>\n",
              "    <tr>\n",
              "      <th>9998</th>\n",
              "      <td>673977</td>\n",
              "      <td>596549</td>\n",
              "      <td>146394</td>\n",
              "    </tr>\n",
              "    <tr>\n",
              "      <th>9999</th>\n",
              "      <td>147843</td>\n",
              "      <td>23699</td>\n",
              "      <td>724154</td>\n",
              "    </tr>\n",
              "  </tbody>\n",
              "</table>\n",
              "<p>10000 rows × 3 columns</p>\n",
              "</div>"
            ],
            "text/plain": [
              "          r1      r2      r3\n",
              "0     774472  775123   52809\n",
              "1     547236  528809  372954\n",
              "2     211171  463583  878903\n",
              "3     993132  546110  573780\n",
              "4     102624   74223  902911\n",
              "...      ...     ...     ...\n",
              "9995  253772  393294  756923\n",
              "9996  147313  909758  443546\n",
              "9997  155037  831207  517234\n",
              "9998  673977  596549  146394\n",
              "9999  147843   23699  724154\n",
              "\n",
              "[10000 rows x 3 columns]"
            ]
          },
          "metadata": {},
          "execution_count": 6
        }
      ]
    },
    {
      "cell_type": "code",
      "source": [
        "%%time\n",
        "pd.read_sql('''\n",
        "with recursive generate_series(r1,r2,r3) as (\n",
        "    select abs(random() % 1000000) as r1, abs(random() % 1000000) as r2, abs(random() % 1000000) as r3\n",
        "    union all select abs(random() % 1000000) as r1, abs(random() % 1000000) as r2, abs(random() % 1000000) as r3\n",
        "    from generate_series\n",
        "    limit 10000)\n",
        " select * from generate_series;\n",
        "''', conn_sqlite)"
      ],
      "metadata": {
        "colab": {
          "base_uri": "https://localhost:8080/",
          "height": 458
        },
        "id": "3SBavyBMLd-5",
        "outputId": "a2f551fb-df41-4e93-d9a4-37d293710062"
      },
      "execution_count": null,
      "outputs": [
        {
          "output_type": "stream",
          "name": "stdout",
          "text": [
            "CPU times: user 31.5 ms, sys: 1.38 ms, total: 32.9 ms\n",
            "Wall time: 36.3 ms\n"
          ]
        },
        {
          "output_type": "execute_result",
          "data": {
            "text/html": [
              "<div>\n",
              "<style scoped>\n",
              "    .dataframe tbody tr th:only-of-type {\n",
              "        vertical-align: middle;\n",
              "    }\n",
              "\n",
              "    .dataframe tbody tr th {\n",
              "        vertical-align: top;\n",
              "    }\n",
              "\n",
              "    .dataframe thead th {\n",
              "        text-align: right;\n",
              "    }\n",
              "</style>\n",
              "<table border=\"1\" class=\"dataframe\">\n",
              "  <thead>\n",
              "    <tr style=\"text-align: right;\">\n",
              "      <th></th>\n",
              "      <th>r1</th>\n",
              "      <th>r2</th>\n",
              "      <th>r3</th>\n",
              "    </tr>\n",
              "  </thead>\n",
              "  <tbody>\n",
              "    <tr>\n",
              "      <th>0</th>\n",
              "      <td>967986</td>\n",
              "      <td>746382</td>\n",
              "      <td>97611</td>\n",
              "    </tr>\n",
              "    <tr>\n",
              "      <th>1</th>\n",
              "      <td>311088</td>\n",
              "      <td>903282</td>\n",
              "      <td>565812</td>\n",
              "    </tr>\n",
              "    <tr>\n",
              "      <th>2</th>\n",
              "      <td>116491</td>\n",
              "      <td>920012</td>\n",
              "      <td>133140</td>\n",
              "    </tr>\n",
              "    <tr>\n",
              "      <th>3</th>\n",
              "      <td>332678</td>\n",
              "      <td>820515</td>\n",
              "      <td>89184</td>\n",
              "    </tr>\n",
              "    <tr>\n",
              "      <th>4</th>\n",
              "      <td>30464</td>\n",
              "      <td>144816</td>\n",
              "      <td>907873</td>\n",
              "    </tr>\n",
              "    <tr>\n",
              "      <th>...</th>\n",
              "      <td>...</td>\n",
              "      <td>...</td>\n",
              "      <td>...</td>\n",
              "    </tr>\n",
              "    <tr>\n",
              "      <th>9995</th>\n",
              "      <td>898265</td>\n",
              "      <td>247299</td>\n",
              "      <td>218516</td>\n",
              "    </tr>\n",
              "    <tr>\n",
              "      <th>9996</th>\n",
              "      <td>885075</td>\n",
              "      <td>668466</td>\n",
              "      <td>344804</td>\n",
              "    </tr>\n",
              "    <tr>\n",
              "      <th>9997</th>\n",
              "      <td>758176</td>\n",
              "      <td>768857</td>\n",
              "      <td>589208</td>\n",
              "    </tr>\n",
              "    <tr>\n",
              "      <th>9998</th>\n",
              "      <td>748902</td>\n",
              "      <td>389999</td>\n",
              "      <td>856841</td>\n",
              "    </tr>\n",
              "    <tr>\n",
              "      <th>9999</th>\n",
              "      <td>902344</td>\n",
              "      <td>790208</td>\n",
              "      <td>322742</td>\n",
              "    </tr>\n",
              "  </tbody>\n",
              "</table>\n",
              "<p>10000 rows × 3 columns</p>\n",
              "</div>"
            ],
            "text/plain": [
              "          r1      r2      r3\n",
              "0     967986  746382   97611\n",
              "1     311088  903282  565812\n",
              "2     116491  920012  133140\n",
              "3     332678  820515   89184\n",
              "4      30464  144816  907873\n",
              "...      ...     ...     ...\n",
              "9995  898265  247299  218516\n",
              "9996  885075  668466  344804\n",
              "9997  758176  768857  589208\n",
              "9998  748902  389999  856841\n",
              "9999  902344  790208  322742\n",
              "\n",
              "[10000 rows x 3 columns]"
            ]
          },
          "metadata": {},
          "execution_count": 15
        }
      ]
    }
  ]
}